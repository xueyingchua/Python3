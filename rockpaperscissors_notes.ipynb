{
 "cells": [
  {
   "cell_type": "raw",
   "metadata": {},
   "source": [
    "# AUTOMATED ROCK PAPER SCISSORS GAME\n",
    "# Creating a game where the outcome is automatically chosen for both players.\n",
    "# The number of times the game is played can be adjusted.\n",
    "# This code also analyses how many times a choice was made by each player and how many wins each player has.\n",
    "# Xue Ying Chua 2020"
   ]
  },
  {
   "cell_type": "code",
   "execution_count": 2,
   "metadata": {},
   "outputs": [],
   "source": [
    "# Import packages that will be used later\n",
    "import random # random number generator\n",
    "import matplotlib\n",
    "import matplotlib.pyplot as plt\n",
    "import numpy as np"
   ]
  },
  {
   "cell_type": "code",
   "execution_count": 3,
   "metadata": {},
   "outputs": [],
   "source": [
    "# We first have to define the three choices that each player can choose from\n",
    "choice = ['rock', 'paper', 'scissors']"
   ]
  },
  {
   "cell_type": "code",
   "execution_count": 4,
   "metadata": {},
   "outputs": [],
   "source": [
    "# Define the number of games that they play\n",
    "# Note: As we increase the number of plays, the outcome approximates to a 50:50 for P1 and P2\n",
    "n_play = 30"
   ]
  },
  {
   "cell_type": "code",
   "execution_count": 5,
   "metadata": {},
   "outputs": [],
   "source": [
    "# Creating empty lists to store the results\n",
    "P1_choice_tot = [0]*n_play # P1 choices\n",
    "P2_choice_tot = [0]*n_play # P2 choices\n",
    "P1_wins = [0]*n_play # P1 wins\n",
    "P2_wins = [0]*n_play # P2 wins"
   ]
  },
  {
   "cell_type": "code",
   "execution_count": 6,
   "metadata": {},
   "outputs": [
    {
     "name": "stdout",
     "output_type": "stream",
     "text": [
      "Round number : 0\n",
      "P1: rock\n",
      "P2: rock\n",
      "Draw!\n",
      "Round number : 1\n",
      "P1: scissors\n",
      "P2: scissors\n",
      "Draw!\n",
      "Round number : 2\n",
      "P1: scissors\n",
      "P2: scissors\n",
      "Draw!\n",
      "Round number : 3\n",
      "P1: paper\n",
      "P2: paper\n",
      "Draw!\n",
      "Round number : 4\n",
      "P1: paper\n",
      "P2: rock\n",
      "P1 wins!\n",
      "Round number : 5\n",
      "P1: rock\n",
      "P2: rock\n",
      "Draw!\n",
      "Round number : 6\n",
      "P1: scissors\n",
      "P2: rock\n",
      "P2 wins!\n",
      "Round number : 7\n",
      "P1: rock\n",
      "P2: paper\n",
      "P2 wins!\n",
      "Round number : 8\n",
      "P1: rock\n",
      "P2: paper\n",
      "P2 wins!\n",
      "Round number : 9\n",
      "P1: rock\n",
      "P2: rock\n",
      "Draw!\n",
      "Round number : 10\n",
      "P1: scissors\n",
      "P2: paper\n",
      "P1 wins!\n",
      "Round number : 11\n",
      "P1: scissors\n",
      "P2: scissors\n",
      "Draw!\n",
      "Round number : 12\n",
      "P1: rock\n",
      "P2: paper\n",
      "P2 wins!\n",
      "Round number : 13\n",
      "P1: scissors\n",
      "P2: paper\n",
      "P1 wins!\n",
      "Round number : 14\n",
      "P1: rock\n",
      "P2: scissors\n",
      "P1 wins!\n",
      "Round number : 15\n",
      "P1: paper\n",
      "P2: rock\n",
      "P1 wins!\n",
      "Round number : 16\n",
      "P1: rock\n",
      "P2: paper\n",
      "P2 wins!\n",
      "Round number : 17\n",
      "P1: rock\n",
      "P2: scissors\n",
      "P1 wins!\n",
      "Round number : 18\n",
      "P1: paper\n",
      "P2: paper\n",
      "Draw!\n",
      "Round number : 19\n",
      "P1: scissors\n",
      "P2: rock\n",
      "P2 wins!\n",
      "Round number : 20\n",
      "P1: rock\n",
      "P2: paper\n",
      "P2 wins!\n",
      "Round number : 21\n",
      "P1: rock\n",
      "P2: rock\n",
      "Draw!\n",
      "Round number : 22\n",
      "P1: scissors\n",
      "P2: scissors\n",
      "Draw!\n",
      "Round number : 23\n",
      "P1: rock\n",
      "P2: rock\n",
      "Draw!\n",
      "Round number : 24\n",
      "P1: scissors\n",
      "P2: rock\n",
      "P2 wins!\n",
      "Round number : 25\n",
      "P1: paper\n",
      "P2: scissors\n",
      "P2 wins!\n",
      "Round number : 26\n",
      "P1: paper\n",
      "P2: rock\n",
      "P1 wins!\n",
      "Round number : 27\n",
      "P1: paper\n",
      "P2: paper\n",
      "Draw!\n",
      "Round number : 28\n",
      "P1: scissors\n",
      "P2: rock\n",
      "P2 wins!\n",
      "Round number : 29\n",
      "P1: scissors\n",
      "P2: paper\n",
      "P1 wins!\n"
     ]
    }
   ],
   "source": [
    "# Running the game!\n",
    "for x in range(0, n_play): \n",
    "    \n",
    "    # Show the current round\n",
    "    print(f'Round number : {x}')    \n",
    "\n",
    "    # Selecting an option for Player 1\n",
    "    rand_num = random.randint(0,2) # randomly selecting a number from 0,1,2\n",
    "    P1_choice = choice[rand_num] # using the randomly selected number to make a choice\n",
    "    P1_choice_tot[x] = P1_choice # storing the choices    \n",
    "    print(f'P1: {P1_choice}') # printing Player 1's choice\n",
    "    \n",
    "    # Selecting an option for Player 2\n",
    "    rand_num = random.randint(0,2)\n",
    "    P2_choice = choice[rand_num]\n",
    "    P2_choice_tot[x] = P2_choice    \n",
    "    print(f'P2: {P2_choice}')\n",
    "        \n",
    "    # Conditional statements for winning\n",
    "    if P1_choice == P2_choice: # if both players make the same choice\n",
    "        print('Draw!') # no wins for each player\n",
    "    \n",
    "    elif P1_choice == 'paper' and P2_choice == 'rock':\n",
    "        print('P1 wins!')\n",
    "        P1_wins[x] = 1 # storing P1 wins\n",
    "    \n",
    "    elif P1_choice == 'rock' and P2_choice == 'scissors':\n",
    "        print('P1 wins!')\n",
    "        P1_wins[x] = 1 \n",
    "    \n",
    "    elif P1_choice == 'scissors' and P2_choice == 'paper':\n",
    "        print('P1 wins!')\n",
    "        P1_wins[x] = 1 \n",
    "    \n",
    "    else:\n",
    "        print('P2 wins!')\n",
    "        P2_wins[x] = 1 # storing P2 wins"
   ]
  },
  {
   "cell_type": "code",
   "execution_count": 7,
   "metadata": {},
   "outputs": [],
   "source": [
    "# Counting the number of times rock, paper, and scissors appeared for each player\n",
    "P1_choice_list = [P1_choice_tot.count('rock'), P1_choice_tot.count('paper'), P1_choice_tot.count('scissors')]\n",
    "P2_choice_list = [P2_choice_tot.count('rock'), P2_choice_tot.count('paper'), P2_choice_tot.count('scissors')]"
   ]
  },
  {
   "cell_type": "code",
   "execution_count": 8,
   "metadata": {},
   "outputs": [
    {
     "data": {
      "image/png": "[encoded data removed]",
      "text/plain": [
       "<Figure size 432x288 with 1 Axes>"
      ]
     },
     "metadata": {
      "needs_background": "light"
     },
     "output_type": "display_data"
    }
   ],
   "source": [
    "# Generate a bar chart to show how many times rock, scissors, and paper was chosen by each player\n",
    "label_loc = np.arange(len(choice)) # the label locations\n",
    "width = 0.35  # the width of the bars\n",
    "\n",
    "# settings for the bar plot\n",
    "fig, ax = plt.subplots()\n",
    "rects1 = ax.bar(label_loc - width/2, P1_choice_list, width, label='Player 1', color=['red'])\n",
    "rects2 = ax.bar(label_loc + width/2, P2_choice_list, width, label='Player 2', color=['blue'])\n",
    "\n",
    "ax.set_title('Number of times each choice was made') # figure title\n",
    "ax.set_ylabel('Counts') # y label\n",
    "ax.set_xlabel('Choices') # x label\n",
    "ax.set_xticks(label_loc) # location for x axis labels\n",
    "ax.set_xticklabels(choice) # x axis labels\n",
    "ax.legend() # figure legend\n",
    "\n",
    "# Showing the bar plot\n",
    "fig.tight_layout()\n",
    "plt.show()\n",
    "\n",
    "# Counting how many times each player won the game\n",
    "P1_wins_tot = sum(P1_wins)\n",
    "P2_wins_tot = sum(P2_wins)\n",
    "\n",
    "# Summary of all the wins and number of games played\n",
    "game_summary = [P1_wins_tot, P2_wins_tot, n_play]\n",
    "game_summary_label = ['P1 wins', 'P2 wins', 'Number of games']\n"
   ]
  },
  {
   "cell_type": "code",
   "execution_count": 9,
   "metadata": {},
   "outputs": [
    {
     "data": {
      "image/png": "[encoded data removed]",
      "text/plain": [
       "<Figure size 640x480 with 1 Axes>"
      ]
     },
     "metadata": {},
     "output_type": "display_data"
    }
   ],
   "source": [
    "# Plotting a horizontal bar chart to show the number of times the game was played and how many times each player won\n",
    "\n",
    "# Counting how many times each player won the game\n",
    "P1_wins_tot = sum(P1_wins)\n",
    "P2_wins_tot = sum(P2_wins)\n",
    "\n",
    "# Summary of all the wins and number of games played\n",
    "game_summary = [P1_wins_tot, P2_wins_tot, n_play]\n",
    "game_summary_label = ['P1 wins', 'P2 wins', 'Number of games']\n",
    "\n",
    "plt.rcdefaults()\n",
    "fig, ax = plt.subplots()\n",
    "\n",
    "y_pos = np.arange(len(game_summary)) # the label locations\n",
    "ax.barh(y_pos, game_summary, width, color=['black']) \n",
    "ax.set_title('Game summary') # figure title\n",
    "ax.set_xlabel('Counts') # x label\n",
    "ax.set_yticks(y_pos) # location for y axis labels\n",
    "ax.set_yticklabels(game_summary_label) # y axis labels\n",
    "\n",
    "plt.show()"
   ]
  },
  {
   "cell_type": "code",
   "execution_count": null,
   "metadata": {},
   "outputs": [],
   "source": []
  }
 ],
 "metadata": {
  "kernelspec": {
   "display_name": "Python 3",
   "language": "python",
   "name": "python3"
  },
  "language_info": {
   "codemirror_mode": {
    "name": "ipython",
    "version": 3
   },
   "file_extension": ".py",
   "mimetype": "text/x-python",
   "name": "python",
   "nbconvert_exporter": "python",
   "pygments_lexer": "ipython3",
   "version": "3.8.3"
  }
 },
 "nbformat": 4,
 "nbformat_minor": 4
}
